{
 "cells": [
  {
   "cell_type": "code",
   "execution_count": null,
   "metadata": {
    "colab": {
     "base_uri": "https://localhost:8080/"
    },
    "id": "5V1BQZJ_N1jU",
    "outputId": "8a4359a3-eaad-4c65-f53e-8142b9ff89be"
   },
   "outputs": [
    {
     "name": "stdout",
     "output_type": "stream",
     "text": [
      "Drive already mounted at /content/drive; to attempt to forcibly remount, call drive.mount(\"/content/drive\", force_remount=True).\n"
     ]
    }
   ],
   "source": [
    "from google.colab import drive\n",
    "drive.mount('/content/drive')"
   ]
  },
  {
   "cell_type": "code",
   "execution_count": null,
   "metadata": {
    "id": "IC52fUDSN2VT"
   },
   "outputs": [],
   "source": [
    "import pandas as pd\n",
    "import seaborn as sns\n",
    "import matplotlib.pyplot as plt\n",
    "import numpy as np"
   ]
  },
  {
   "cell_type": "markdown",
   "metadata": {},
   "source": [
    "# Fetch data"
   ]
  },
  {
   "cell_type": "code",
   "execution_count": null,
   "metadata": {
    "colab": {
     "base_uri": "https://localhost:8080/",
     "height": 206
    },
    "id": "MO0u61_aN2YD",
    "outputId": "3f12c95f-7816-4913-8232-a0ba04208373"
   },
   "outputs": [
    {
     "data": {
      "text/html": [
       "\n",
       "  <div id=\"df-3ae817b0-db14-414f-83aa-f32f36ef3e1b\">\n",
       "    <div class=\"colab-df-container\">\n",
       "      <div>\n",
       "<style scoped>\n",
       "    .dataframe tbody tr th:only-of-type {\n",
       "        vertical-align: middle;\n",
       "    }\n",
       "\n",
       "    .dataframe tbody tr th {\n",
       "        vertical-align: top;\n",
       "    }\n",
       "\n",
       "    .dataframe thead th {\n",
       "        text-align: right;\n",
       "    }\n",
       "</style>\n",
       "<table border=\"1\" class=\"dataframe\">\n",
       "  <thead>\n",
       "    <tr style=\"text-align: right;\">\n",
       "      <th></th>\n",
       "      <th>Date</th>\n",
       "      <th>Open</th>\n",
       "      <th>High</th>\n",
       "      <th>Low</th>\n",
       "      <th>Close</th>\n",
       "      <th>Volume</th>\n",
       "      <th>Adj Close</th>\n",
       "    </tr>\n",
       "  </thead>\n",
       "  <tbody>\n",
       "    <tr>\n",
       "      <th>0</th>\n",
       "      <td>6/29/2010</td>\n",
       "      <td>19.000000</td>\n",
       "      <td>25.00</td>\n",
       "      <td>17.540001</td>\n",
       "      <td>23.889999</td>\n",
       "      <td>18766300</td>\n",
       "      <td>23.889999</td>\n",
       "    </tr>\n",
       "    <tr>\n",
       "      <th>1</th>\n",
       "      <td>6/30/2010</td>\n",
       "      <td>25.790001</td>\n",
       "      <td>30.42</td>\n",
       "      <td>23.299999</td>\n",
       "      <td>23.830000</td>\n",
       "      <td>17187100</td>\n",
       "      <td>23.830000</td>\n",
       "    </tr>\n",
       "    <tr>\n",
       "      <th>2</th>\n",
       "      <td>7/1/2010</td>\n",
       "      <td>25.000000</td>\n",
       "      <td>25.92</td>\n",
       "      <td>20.270000</td>\n",
       "      <td>21.959999</td>\n",
       "      <td>8218800</td>\n",
       "      <td>21.959999</td>\n",
       "    </tr>\n",
       "    <tr>\n",
       "      <th>3</th>\n",
       "      <td>7/2/2010</td>\n",
       "      <td>23.000000</td>\n",
       "      <td>23.10</td>\n",
       "      <td>18.709999</td>\n",
       "      <td>19.200001</td>\n",
       "      <td>5139800</td>\n",
       "      <td>19.200001</td>\n",
       "    </tr>\n",
       "    <tr>\n",
       "      <th>4</th>\n",
       "      <td>7/6/2010</td>\n",
       "      <td>20.000000</td>\n",
       "      <td>20.00</td>\n",
       "      <td>15.830000</td>\n",
       "      <td>16.110001</td>\n",
       "      <td>6866900</td>\n",
       "      <td>16.110001</td>\n",
       "    </tr>\n",
       "  </tbody>\n",
       "</table>\n",
       "</div>\n",
       "      <button class=\"colab-df-convert\" onclick=\"convertToInteractive('df-3ae817b0-db14-414f-83aa-f32f36ef3e1b')\"\n",
       "              title=\"Convert this dataframe to an interactive table.\"\n",
       "              style=\"display:none;\">\n",
       "        \n",
       "  <svg xmlns=\"http://www.w3.org/2000/svg\" height=\"24px\"viewBox=\"0 0 24 24\"\n",
       "       width=\"24px\">\n",
       "    <path d=\"M0 0h24v24H0V0z\" fill=\"none\"/>\n",
       "    <path d=\"M18.56 5.44l.94 2.06.94-2.06 2.06-.94-2.06-.94-.94-2.06-.94 2.06-2.06.94zm-11 1L8.5 8.5l.94-2.06 2.06-.94-2.06-.94L8.5 2.5l-.94 2.06-2.06.94zm10 10l.94 2.06.94-2.06 2.06-.94-2.06-.94-.94-2.06-.94 2.06-2.06.94z\"/><path d=\"M17.41 7.96l-1.37-1.37c-.4-.4-.92-.59-1.43-.59-.52 0-1.04.2-1.43.59L10.3 9.45l-7.72 7.72c-.78.78-.78 2.05 0 2.83L4 21.41c.39.39.9.59 1.41.59.51 0 1.02-.2 1.41-.59l7.78-7.78 2.81-2.81c.8-.78.8-2.07 0-2.86zM5.41 20L4 18.59l7.72-7.72 1.47 1.35L5.41 20z\"/>\n",
       "  </svg>\n",
       "      </button>\n",
       "      \n",
       "  <style>\n",
       "    .colab-df-container {\n",
       "      display:flex;\n",
       "      flex-wrap:wrap;\n",
       "      gap: 12px;\n",
       "    }\n",
       "\n",
       "    .colab-df-convert {\n",
       "      background-color: #E8F0FE;\n",
       "      border: none;\n",
       "      border-radius: 50%;\n",
       "      cursor: pointer;\n",
       "      display: none;\n",
       "      fill: #1967D2;\n",
       "      height: 32px;\n",
       "      padding: 0 0 0 0;\n",
       "      width: 32px;\n",
       "    }\n",
       "\n",
       "    .colab-df-convert:hover {\n",
       "      background-color: #E2EBFA;\n",
       "      box-shadow: 0px 1px 2px rgba(60, 64, 67, 0.3), 0px 1px 3px 1px rgba(60, 64, 67, 0.15);\n",
       "      fill: #174EA6;\n",
       "    }\n",
       "\n",
       "    [theme=dark] .colab-df-convert {\n",
       "      background-color: #3B4455;\n",
       "      fill: #D2E3FC;\n",
       "    }\n",
       "\n",
       "    [theme=dark] .colab-df-convert:hover {\n",
       "      background-color: #434B5C;\n",
       "      box-shadow: 0px 1px 3px 1px rgba(0, 0, 0, 0.15);\n",
       "      filter: drop-shadow(0px 1px 2px rgba(0, 0, 0, 0.3));\n",
       "      fill: #FFFFFF;\n",
       "    }\n",
       "  </style>\n",
       "\n",
       "      <script>\n",
       "        const buttonEl =\n",
       "          document.querySelector('#df-3ae817b0-db14-414f-83aa-f32f36ef3e1b button.colab-df-convert');\n",
       "        buttonEl.style.display =\n",
       "          google.colab.kernel.accessAllowed ? 'block' : 'none';\n",
       "\n",
       "        async function convertToInteractive(key) {\n",
       "          const element = document.querySelector('#df-3ae817b0-db14-414f-83aa-f32f36ef3e1b');\n",
       "          const dataTable =\n",
       "            await google.colab.kernel.invokeFunction('convertToInteractive',\n",
       "                                                     [key], {});\n",
       "          if (!dataTable) return;\n",
       "\n",
       "          const docLinkHtml = 'Like what you see? Visit the ' +\n",
       "            '<a target=\"_blank\" href=https://colab.research.google.com/notebooks/data_table.ipynb>data table notebook</a>'\n",
       "            + ' to learn more about interactive tables.';\n",
       "          element.innerHTML = '';\n",
       "          dataTable['output_type'] = 'display_data';\n",
       "          await google.colab.output.renderOutput(dataTable, element);\n",
       "          const docLink = document.createElement('div');\n",
       "          docLink.innerHTML = docLinkHtml;\n",
       "          element.appendChild(docLink);\n",
       "        }\n",
       "      </script>\n",
       "    </div>\n",
       "  </div>\n",
       "  "
      ],
      "text/plain": [
       "        Date       Open   High        Low      Close    Volume  Adj Close\n",
       "0  6/29/2010  19.000000  25.00  17.540001  23.889999  18766300  23.889999\n",
       "1  6/30/2010  25.790001  30.42  23.299999  23.830000  17187100  23.830000\n",
       "2   7/1/2010  25.000000  25.92  20.270000  21.959999   8218800  21.959999\n",
       "3   7/2/2010  23.000000  23.10  18.709999  19.200001   5139800  19.200001\n",
       "4   7/6/2010  20.000000  20.00  15.830000  16.110001   6866900  16.110001"
      ]
     },
     "execution_count": 24,
     "metadata": {},
     "output_type": "execute_result"
    }
   ],
   "source": [
    "data = pd.read_csv('/content/drive/MyDrive/Tesla.csv')\n",
    "data.head()"
   ]
  },
  {
   "cell_type": "code",
   "execution_count": null,
   "metadata": {
    "colab": {
     "base_uri": "https://localhost:8080/"
    },
    "id": "c6VBslwYN2ai",
    "outputId": "081cb36e-a421-4f98-c65d-f99aafdc70ed"
   },
   "outputs": [
    {
     "data": {
      "text/plain": [
       "(1692, 7)"
      ]
     },
     "execution_count": 36,
     "metadata": {},
     "output_type": "execute_result"
    }
   ],
   "source": [
    "data.shape"
   ]
  },
  {
   "cell_type": "code",
   "execution_count": null,
   "metadata": {
    "id": "PlBfkAYoN2dJ"
   },
   "outputs": [],
   "source": [
    "a = data[['Date','High']]"
   ]
  },
  {
   "cell_type": "code",
   "execution_count": null,
   "metadata": {
    "colab": {
     "base_uri": "https://localhost:8080/"
    },
    "id": "C4UxwYdcQkK9",
    "outputId": "754e2de4-54d5-4aa4-ac10-72bcd860f8a6"
   },
   "outputs": [
    {
     "data": {
      "text/plain": [
       "array([[ 25.      ],\n",
       "       [ 30.42    ],\n",
       "       [ 25.92    ],\n",
       "       ...,\n",
       "       [261.      ],\n",
       "       [265.75    ],\n",
       "       [265.329987]])"
      ]
     },
     "execution_count": 37,
     "metadata": {},
     "output_type": "execute_result"
    }
   ],
   "source": [
    "a1 = a[['High']].values\n",
    "a1"
   ]
  },
  {
   "cell_type": "markdown",
   "metadata": {},
   "source": [
    "# Preprocessing"
   ]
  },
  {
   "cell_type": "code",
   "execution_count": null,
   "metadata": {
    "id": "5jSIW_btN2tB"
   },
   "outputs": [],
   "source": [
    "from sklearn.preprocessing import StandardScaler\n",
    "ss = StandardScaler()\n",
    "scaled_a1 = ss.fit_transform(a1)"
   ]
  },
  {
   "cell_type": "code",
   "execution_count": null,
   "metadata": {
    "colab": {
     "base_uri": "https://localhost:8080/"
    },
    "id": "Er3Z17oDN2zA",
    "outputId": "30d92d92-da42-4d20-df7e-998ea604fe9a"
   },
   "outputs": [
    {
     "data": {
      "text/plain": [
       "(1692, 1)"
      ]
     },
     "execution_count": 42,
     "metadata": {},
     "output_type": "execute_result"
    }
   ],
   "source": [
    "scaled_a1.shape"
   ]
  },
  {
   "cell_type": "code",
   "execution_count": null,
   "metadata": {
    "colab": {
     "base_uri": "https://localhost:8080/"
    },
    "id": "rSBA_8YlZHlR",
    "outputId": "df2bcc2a-0b98-4cf8-ced5-440b26d6612f"
   },
   "outputs": [
    {
     "data": {
      "text/plain": [
       "1354"
      ]
     },
     "execution_count": 46,
     "metadata": {},
     "output_type": "execute_result"
    }
   ],
   "source": [
    "import math\n",
    "len = math.ceil(scaled_a1.shape[0]*0.8)\n",
    "len"
   ]
  },
  {
   "cell_type": "markdown",
   "metadata": {},
   "source": [
    "# Split data into training and testing sets"
   ]
  },
  {
   "cell_type": "code",
   "execution_count": null,
   "metadata": {
    "id": "lf0w2lvQZIJz"
   },
   "outputs": [],
   "source": [
    "train = scaled_a1[0:len, :]\n",
    "test = scaled_a1[len:, :]"
   ]
  },
  {
   "cell_type": "code",
   "execution_count": null,
   "metadata": {
    "colab": {
     "base_uri": "https://localhost:8080/"
    },
    "id": "mWJZaeBwZIL_",
    "outputId": "f6192ec6-524f-4c4c-be02-28622d9c86b2"
   },
   "outputs": [
    {
     "name": "stdout",
     "output_type": "stream",
     "text": [
      "(1354, 1)\n",
      "(338, 1)\n"
     ]
    }
   ],
   "source": [
    "print(train.shape)\n",
    "print(test.shape)"
   ]
  },
  {
   "cell_type": "code",
   "execution_count": null,
   "metadata": {
    "id": "ZwFAG7QOZIOQ"
   },
   "outputs": [],
   "source": [
    "x = []\n",
    "y = []\n",
    "\n",
    "for i in range(10,len,1):\n",
    "  x.append(train[i-10:i])\n",
    "  y.append(train[i])"
   ]
  },
  {
   "cell_type": "code",
   "execution_count": null,
   "metadata": {
    "colab": {
     "base_uri": "https://localhost:8080/"
    },
    "id": "7f5HEgwUZIQi",
    "outputId": "092fea7f-033b-4304-9d2f-b70f79d898ea"
   },
   "outputs": [
    {
     "name": "stdout",
     "output_type": "stream",
     "text": [
      "(1344, 10, 1)\n",
      "(1344, 1)\n"
     ]
    }
   ],
   "source": [
    "x_arr = np.array(x)\n",
    "y_arr = np.array(y)\n",
    "\n",
    "print(x_arr.shape)\n",
    "print(y_arr.shape)"
   ]
  },
  {
   "cell_type": "markdown",
   "metadata": {
    "id": "2mpmji0PZISk"
   },
   "source": [
    "# Create Neural Network"
   ]
  },
  {
   "cell_type": "code",
   "execution_count": null,
   "metadata": {
    "colab": {
     "base_uri": "https://localhost:8080/"
    },
    "id": "_P_BX7jsZIUl",
    "outputId": "73ff6fa6-66af-4bbc-be49-62847fff4ed3"
   },
   "outputs": [
    {
     "name": "stdout",
     "output_type": "stream",
     "text": [
      "Epoch 1/150\n",
      "42/42 [==============================] - 4s 16ms/step - loss: 0.1233\n",
      "Epoch 2/150\n",
      "42/42 [==============================] - 1s 16ms/step - loss: 0.0086\n",
      "Epoch 3/150\n",
      "42/42 [==============================] - 1s 17ms/step - loss: 0.0073\n",
      "Epoch 4/150\n",
      "42/42 [==============================] - 1s 17ms/step - loss: 0.0069\n",
      "Epoch 5/150\n",
      "42/42 [==============================] - 1s 17ms/step - loss: 0.0066\n",
      "Epoch 6/150\n",
      "42/42 [==============================] - 1s 17ms/step - loss: 0.0064\n",
      "Epoch 7/150\n",
      "42/42 [==============================] - 1s 17ms/step - loss: 0.0068\n",
      "Epoch 8/150\n",
      "42/42 [==============================] - 1s 16ms/step - loss: 0.0063\n",
      "Epoch 9/150\n",
      "42/42 [==============================] - 1s 16ms/step - loss: 0.0061\n",
      "Epoch 10/150\n",
      "42/42 [==============================] - 1s 16ms/step - loss: 0.0056\n",
      "Epoch 11/150\n",
      "42/42 [==============================] - 1s 15ms/step - loss: 0.0052\n",
      "Epoch 12/150\n",
      "42/42 [==============================] - 1s 16ms/step - loss: 0.0051\n",
      "Epoch 13/150\n",
      "42/42 [==============================] - 1s 16ms/step - loss: 0.0054\n",
      "Epoch 14/150\n",
      "42/42 [==============================] - 1s 16ms/step - loss: 0.0049\n",
      "Epoch 15/150\n",
      "42/42 [==============================] - 1s 16ms/step - loss: 0.0044\n",
      "Epoch 16/150\n",
      "42/42 [==============================] - 1s 16ms/step - loss: 0.0046\n",
      "Epoch 17/150\n",
      "42/42 [==============================] - 1s 15ms/step - loss: 0.0046\n",
      "Epoch 18/150\n",
      "42/42 [==============================] - 1s 16ms/step - loss: 0.0049\n",
      "Epoch 19/150\n",
      "42/42 [==============================] - 1s 16ms/step - loss: 0.0045\n",
      "Epoch 20/150\n",
      "42/42 [==============================] - 1s 16ms/step - loss: 0.0042\n",
      "Epoch 21/150\n",
      "42/42 [==============================] - 1s 16ms/step - loss: 0.0037\n",
      "Epoch 22/150\n",
      "42/42 [==============================] - 1s 16ms/step - loss: 0.0039\n",
      "Epoch 23/150\n",
      "42/42 [==============================] - 1s 16ms/step - loss: 0.0041\n",
      "Epoch 24/150\n",
      "42/42 [==============================] - 1s 16ms/step - loss: 0.0034\n",
      "Epoch 25/150\n",
      "42/42 [==============================] - 1s 15ms/step - loss: 0.0033\n",
      "Epoch 26/150\n",
      "42/42 [==============================] - 1s 16ms/step - loss: 0.0035\n",
      "Epoch 27/150\n",
      "42/42 [==============================] - 1s 16ms/step - loss: 0.0034\n",
      "Epoch 28/150\n",
      "42/42 [==============================] - 1s 16ms/step - loss: 0.0032\n",
      "Epoch 29/150\n",
      "42/42 [==============================] - 1s 16ms/step - loss: 0.0033\n",
      "Epoch 30/150\n",
      "42/42 [==============================] - 1s 17ms/step - loss: 0.0032\n",
      "Epoch 31/150\n",
      "42/42 [==============================] - 1s 16ms/step - loss: 0.0029\n",
      "Epoch 32/150\n",
      "42/42 [==============================] - 1s 16ms/step - loss: 0.0027\n",
      "Epoch 33/150\n",
      "42/42 [==============================] - 1s 16ms/step - loss: 0.0026\n",
      "Epoch 34/150\n",
      "42/42 [==============================] - 1s 16ms/step - loss: 0.0025\n",
      "Epoch 35/150\n",
      "42/42 [==============================] - 1s 16ms/step - loss: 0.0025\n",
      "Epoch 36/150\n",
      "42/42 [==============================] - 1s 16ms/step - loss: 0.0025\n",
      "Epoch 37/150\n",
      "42/42 [==============================] - 1s 15ms/step - loss: 0.0023\n",
      "Epoch 38/150\n",
      "42/42 [==============================] - 1s 16ms/step - loss: 0.0024\n",
      "Epoch 39/150\n",
      "42/42 [==============================] - 1s 17ms/step - loss: 0.0024\n",
      "Epoch 40/150\n",
      "42/42 [==============================] - 1s 16ms/step - loss: 0.0023\n",
      "Epoch 41/150\n",
      "42/42 [==============================] - 1s 16ms/step - loss: 0.0023\n",
      "Epoch 42/150\n",
      "42/42 [==============================] - 1s 16ms/step - loss: 0.0021\n",
      "Epoch 43/150\n",
      "42/42 [==============================] - 1s 15ms/step - loss: 0.0023\n",
      "Epoch 44/150\n",
      "42/42 [==============================] - 1s 16ms/step - loss: 0.0022\n",
      "Epoch 45/150\n",
      "42/42 [==============================] - 1s 16ms/step - loss: 0.0024\n",
      "Epoch 46/150\n",
      "42/42 [==============================] - 1s 16ms/step - loss: 0.0023\n",
      "Epoch 47/150\n",
      "42/42 [==============================] - 1s 16ms/step - loss: 0.0022\n",
      "Epoch 48/150\n",
      "42/42 [==============================] - 1s 16ms/step - loss: 0.0019\n",
      "Epoch 49/150\n",
      "42/42 [==============================] - 1s 16ms/step - loss: 0.0020\n",
      "Epoch 50/150\n",
      "42/42 [==============================] - 1s 18ms/step - loss: 0.0021\n",
      "Epoch 51/150\n",
      "42/42 [==============================] - 1s 16ms/step - loss: 0.0020\n",
      "Epoch 52/150\n",
      "42/42 [==============================] - 1s 16ms/step - loss: 0.0020\n",
      "Epoch 53/150\n",
      "42/42 [==============================] - 1s 16ms/step - loss: 0.0022\n",
      "Epoch 54/150\n",
      "42/42 [==============================] - 1s 16ms/step - loss: 0.0021\n",
      "Epoch 55/150\n",
      "42/42 [==============================] - 1s 16ms/step - loss: 0.0021\n",
      "Epoch 56/150\n",
      "42/42 [==============================] - 1s 16ms/step - loss: 0.0021\n",
      "Epoch 57/150\n",
      "42/42 [==============================] - 1s 16ms/step - loss: 0.0019\n",
      "Epoch 58/150\n",
      "42/42 [==============================] - 1s 16ms/step - loss: 0.0019\n",
      "Epoch 59/150\n",
      "42/42 [==============================] - 1s 16ms/step - loss: 0.0019\n",
      "Epoch 60/150\n",
      "42/42 [==============================] - 1s 16ms/step - loss: 0.0021\n",
      "Epoch 61/150\n",
      "42/42 [==============================] - 1s 16ms/step - loss: 0.0020\n",
      "Epoch 62/150\n",
      "42/42 [==============================] - 1s 16ms/step - loss: 0.0020\n",
      "Epoch 63/150\n",
      "42/42 [==============================] - 1s 16ms/step - loss: 0.0018\n",
      "Epoch 64/150\n",
      "42/42 [==============================] - 1s 16ms/step - loss: 0.0019\n",
      "Epoch 65/150\n",
      "42/42 [==============================] - 1s 16ms/step - loss: 0.0020\n",
      "Epoch 66/150\n",
      "42/42 [==============================] - 1s 16ms/step - loss: 0.0020\n",
      "Epoch 67/150\n",
      "42/42 [==============================] - 1s 16ms/step - loss: 0.0020\n",
      "Epoch 68/150\n",
      "42/42 [==============================] - 1s 16ms/step - loss: 0.0019\n",
      "Epoch 69/150\n",
      "42/42 [==============================] - 1s 16ms/step - loss: 0.0019\n",
      "Epoch 70/150\n",
      "42/42 [==============================] - 1s 16ms/step - loss: 0.0018\n",
      "Epoch 71/150\n",
      "42/42 [==============================] - 1s 16ms/step - loss: 0.0018\n",
      "Epoch 72/150\n",
      "42/42 [==============================] - 1s 16ms/step - loss: 0.0019\n",
      "Epoch 73/150\n",
      "42/42 [==============================] - 1s 16ms/step - loss: 0.0018\n",
      "Epoch 74/150\n",
      "42/42 [==============================] - 1s 17ms/step - loss: 0.0018\n",
      "Epoch 75/150\n",
      "42/42 [==============================] - 1s 16ms/step - loss: 0.0019\n",
      "Epoch 76/150\n",
      "42/42 [==============================] - 1s 16ms/step - loss: 0.0019\n",
      "Epoch 77/150\n",
      "42/42 [==============================] - 1s 16ms/step - loss: 0.0017\n",
      "Epoch 78/150\n",
      "42/42 [==============================] - 1s 16ms/step - loss: 0.0017\n",
      "Epoch 79/150\n",
      "42/42 [==============================] - 1s 16ms/step - loss: 0.0018\n",
      "Epoch 80/150\n",
      "42/42 [==============================] - 1s 17ms/step - loss: 0.0018\n",
      "Epoch 81/150\n",
      "42/42 [==============================] - 1s 16ms/step - loss: 0.0019\n",
      "Epoch 82/150\n",
      "42/42 [==============================] - 1s 16ms/step - loss: 0.0018\n",
      "Epoch 83/150\n",
      "42/42 [==============================] - 1s 16ms/step - loss: 0.0018\n",
      "Epoch 84/150\n",
      "42/42 [==============================] - 1s 16ms/step - loss: 0.0017\n",
      "Epoch 85/150\n",
      "42/42 [==============================] - 1s 16ms/step - loss: 0.0017\n",
      "Epoch 86/150\n",
      "42/42 [==============================] - 1s 17ms/step - loss: 0.0019\n",
      "Epoch 87/150\n",
      "42/42 [==============================] - 1s 16ms/step - loss: 0.0018\n",
      "Epoch 88/150\n",
      "42/42 [==============================] - 1s 16ms/step - loss: 0.0017\n",
      "Epoch 89/150\n",
      "42/42 [==============================] - 1s 17ms/step - loss: 0.0017\n",
      "Epoch 90/150\n",
      "42/42 [==============================] - 1s 17ms/step - loss: 0.0017\n",
      "Epoch 91/150\n",
      "42/42 [==============================] - 1s 17ms/step - loss: 0.0017\n",
      "Epoch 92/150\n",
      "42/42 [==============================] - 1s 16ms/step - loss: 0.0017\n",
      "Epoch 93/150\n",
      "42/42 [==============================] - 1s 16ms/step - loss: 0.0017\n",
      "Epoch 94/150\n",
      "42/42 [==============================] - 1s 16ms/step - loss: 0.0017\n",
      "Epoch 95/150\n",
      "42/42 [==============================] - 1s 17ms/step - loss: 0.0016\n",
      "Epoch 96/150\n",
      "42/42 [==============================] - 1s 16ms/step - loss: 0.0020\n",
      "Epoch 97/150\n",
      "42/42 [==============================] - 1s 16ms/step - loss: 0.0018\n",
      "Epoch 98/150\n",
      "42/42 [==============================] - 1s 16ms/step - loss: 0.0017\n",
      "Epoch 99/150\n",
      "42/42 [==============================] - 1s 16ms/step - loss: 0.0017\n",
      "Epoch 100/150\n",
      "42/42 [==============================] - 1s 17ms/step - loss: 0.0018\n",
      "Epoch 101/150\n",
      "42/42 [==============================] - 1s 17ms/step - loss: 0.0021\n",
      "Epoch 102/150\n",
      "42/42 [==============================] - 1s 16ms/step - loss: 0.0017\n",
      "Epoch 103/150\n",
      "42/42 [==============================] - 1s 16ms/step - loss: 0.0017\n",
      "Epoch 104/150\n",
      "42/42 [==============================] - 1s 16ms/step - loss: 0.0017\n",
      "Epoch 105/150\n",
      "42/42 [==============================] - 1s 16ms/step - loss: 0.0018\n",
      "Epoch 106/150\n",
      "42/42 [==============================] - 1s 17ms/step - loss: 0.0017\n",
      "Epoch 107/150\n",
      "42/42 [==============================] - 1s 16ms/step - loss: 0.0019\n",
      "Epoch 108/150\n",
      "42/42 [==============================] - 1s 16ms/step - loss: 0.0017\n",
      "Epoch 109/150\n",
      "42/42 [==============================] - 1s 16ms/step - loss: 0.0017\n",
      "Epoch 110/150\n",
      "42/42 [==============================] - 1s 16ms/step - loss: 0.0017\n",
      "Epoch 111/150\n",
      "42/42 [==============================] - 1s 16ms/step - loss: 0.0017\n",
      "Epoch 112/150\n",
      "42/42 [==============================] - 1s 16ms/step - loss: 0.0017\n",
      "Epoch 113/150\n",
      "42/42 [==============================] - 1s 16ms/step - loss: 0.0017\n",
      "Epoch 114/150\n",
      "42/42 [==============================] - 1s 16ms/step - loss: 0.0016\n",
      "Epoch 115/150\n",
      "42/42 [==============================] - 1s 16ms/step - loss: 0.0016\n",
      "Epoch 116/150\n",
      "42/42 [==============================] - 1s 16ms/step - loss: 0.0018\n",
      "Epoch 117/150\n",
      "42/42 [==============================] - 1s 16ms/step - loss: 0.0017\n",
      "Epoch 118/150\n",
      "42/42 [==============================] - 1s 16ms/step - loss: 0.0018\n",
      "Epoch 119/150\n",
      "42/42 [==============================] - 1s 17ms/step - loss: 0.0017\n",
      "Epoch 120/150\n",
      "42/42 [==============================] - 1s 16ms/step - loss: 0.0016\n",
      "Epoch 121/150\n",
      "42/42 [==============================] - 1s 18ms/step - loss: 0.0017\n",
      "Epoch 122/150\n",
      "42/42 [==============================] - 1s 16ms/step - loss: 0.0017\n",
      "Epoch 123/150\n",
      "42/42 [==============================] - 1s 17ms/step - loss: 0.0017\n",
      "Epoch 124/150\n",
      "42/42 [==============================] - 1s 17ms/step - loss: 0.0017\n",
      "Epoch 125/150\n",
      "42/42 [==============================] - 1s 17ms/step - loss: 0.0017\n",
      "Epoch 126/150\n",
      "42/42 [==============================] - 1s 17ms/step - loss: 0.0018\n",
      "Epoch 127/150\n",
      "42/42 [==============================] - 1s 17ms/step - loss: 0.0017\n",
      "Epoch 128/150\n",
      "42/42 [==============================] - 1s 16ms/step - loss: 0.0018\n",
      "Epoch 129/150\n",
      "42/42 [==============================] - 1s 16ms/step - loss: 0.0017\n",
      "Epoch 130/150\n",
      "42/42 [==============================] - 1s 16ms/step - loss: 0.0018\n",
      "Epoch 131/150\n",
      "42/42 [==============================] - 1s 16ms/step - loss: 0.0017\n",
      "Epoch 132/150\n",
      "42/42 [==============================] - 1s 16ms/step - loss: 0.0018\n",
      "Epoch 133/150\n",
      "42/42 [==============================] - 1s 16ms/step - loss: 0.0018\n",
      "Epoch 134/150\n",
      "42/42 [==============================] - 1s 17ms/step - loss: 0.0016\n",
      "Epoch 135/150\n",
      "42/42 [==============================] - 1s 16ms/step - loss: 0.0018\n",
      "Epoch 136/150\n",
      "42/42 [==============================] - 1s 17ms/step - loss: 0.0017\n",
      "Epoch 137/150\n",
      "42/42 [==============================] - 1s 16ms/step - loss: 0.0017\n",
      "Epoch 138/150\n",
      "42/42 [==============================] - 1s 16ms/step - loss: 0.0016\n",
      "Epoch 139/150\n",
      "42/42 [==============================] - 1s 16ms/step - loss: 0.0018\n",
      "Epoch 140/150\n",
      "42/42 [==============================] - 1s 16ms/step - loss: 0.0017\n",
      "Epoch 141/150\n",
      "42/42 [==============================] - 1s 16ms/step - loss: 0.0018\n",
      "Epoch 142/150\n",
      "42/42 [==============================] - 1s 16ms/step - loss: 0.0017\n",
      "Epoch 143/150\n",
      "42/42 [==============================] - 1s 16ms/step - loss: 0.0017\n",
      "Epoch 144/150\n",
      "42/42 [==============================] - 1s 16ms/step - loss: 0.0018\n",
      "Epoch 145/150\n",
      "42/42 [==============================] - 1s 16ms/step - loss: 0.0018\n",
      "Epoch 146/150\n",
      "42/42 [==============================] - 1s 17ms/step - loss: 0.0017\n",
      "Epoch 147/150\n",
      "42/42 [==============================] - 1s 16ms/step - loss: 0.0017\n",
      "Epoch 148/150\n",
      "42/42 [==============================] - 1s 16ms/step - loss: 0.0017\n",
      "Epoch 149/150\n",
      "42/42 [==============================] - 1s 16ms/step - loss: 0.0018\n",
      "Epoch 150/150\n",
      "42/42 [==============================] - 1s 16ms/step - loss: 0.0017\n"
     ]
    },
    {
     "data": {
      "text/plain": [
       "<keras.callbacks.History at 0x7fa506398f90>"
      ]
     },
     "execution_count": 80,
     "metadata": {},
     "output_type": "execute_result"
    }
   ],
   "source": [
    "from keras.layers import Dense, LSTM\n",
    "from keras.models import Sequential\n",
    "\n",
    "nn = Sequential()\n",
    "nn.add(LSTM(units=100,return_sequences=True,input_shape=(10, 1)))\n",
    "nn.add(LSTM(units=100))\n",
    "nn.add(Dense(1))\n",
    "nn.compile(optimizer=\"adam\",loss=\"mean_squared_error\")\n",
    "nn.fit(x_arr,y_arr,epochs=150)"
   ]
  },
  {
   "cell_type": "markdown",
   "metadata": {
    "id": "q5WNmNnBZIXF"
   },
   "source": [
    "# Test data"
   ]
  },
  {
   "cell_type": "code",
   "execution_count": null,
   "metadata": {
    "colab": {
     "base_uri": "https://localhost:8080/"
    },
    "id": "UuwIop8CZIYb",
    "outputId": "5e13cdd7-1bc7-4881-b231-59e7a5ba2265"
   },
   "outputs": [
    {
     "data": {
      "text/plain": [
       "(338, 1)"
      ]
     },
     "execution_count": 81,
     "metadata": {},
     "output_type": "execute_result"
    }
   ],
   "source": [
    "test.shape"
   ]
  },
  {
   "cell_type": "code",
   "execution_count": null,
   "metadata": {
    "id": "0okmrIapZIaf"
   },
   "outputs": [],
   "source": [
    "x1 = []\n",
    "y1 = []\n",
    "\n",
    "for i in range(10,338,1):\n",
    "  x1.append(test[i-10:i])\n",
    "  y1.append(test[i])"
   ]
  },
  {
   "cell_type": "code",
   "execution_count": null,
   "metadata": {
    "colab": {
     "base_uri": "https://localhost:8080/"
    },
    "id": "UMoKgG4mZIeI",
    "outputId": "196a8549-a343-4d71-e237-2308e7012fde"
   },
   "outputs": [
    {
     "name": "stdout",
     "output_type": "stream",
     "text": [
      "(328, 10, 1)\n",
      "(328, 1)\n"
     ]
    }
   ],
   "source": [
    "x1_arr = np.array(x1)\n",
    "y1_arr = np.array(y1)\n",
    "\n",
    "print(x1_arr.shape)\n",
    "print(y1_arr.shape)"
   ]
  },
  {
   "cell_type": "code",
   "execution_count": null,
   "metadata": {
    "colab": {
     "base_uri": "https://localhost:8080/"
    },
    "id": "TIrkk-_4ZIgh",
    "outputId": "a8ec0dd1-9c90-402e-8e42-90b49fa57f43"
   },
   "outputs": [
    {
     "data": {
      "text/plain": [
       "array([[233.27711],\n",
       "       [233.1706 ],\n",
       "       [235.64807],\n",
       "       [239.17403],\n",
       "       [239.2754 ],\n",
       "       [238.0498 ],\n",
       "       [233.63191],\n",
       "       [237.02863],\n",
       "       [228.89314],\n",
       "       [228.9551 ],\n",
       "       [229.75537],\n",
       "       [226.74289],\n",
       "       [221.85486],\n",
       "       [223.93831],\n",
       "       [237.73808],\n",
       "       [238.68765],\n",
       "       [236.48914],\n",
       "       [236.61234],\n",
       "       [237.41481],\n",
       "       [233.94257],\n",
       "       [232.87334],\n",
       "       [233.08958],\n",
       "       [239.48796],\n",
       "       [245.07327],\n",
       "       [243.87935],\n",
       "       [230.61876],\n",
       "       [227.97621],\n",
       "       [220.67754],\n",
       "       [220.11848],\n",
       "       [222.20898],\n",
       "       [215.32365],\n",
       "       [215.59943],\n",
       "       [214.0366 ],\n",
       "       [211.42683],\n",
       "       [206.27129],\n",
       "       [213.088  ],\n",
       "       [201.40315],\n",
       "       [205.95528],\n",
       "       [207.21011],\n",
       "       [205.11334],\n",
       "       [198.93367],\n",
       "       [194.83105],\n",
       "       [193.09966],\n",
       "       [196.09038],\n",
       "       [202.17676],\n",
       "       [193.71121],\n",
       "       [185.18575],\n",
       "       [177.40865],\n",
       "       [175.0497 ],\n",
       "       [157.89099],\n",
       "       [162.88428],\n",
       "       [156.30664],\n",
       "       [166.84831],\n",
       "       [157.7396 ],\n",
       "       [166.50455],\n",
       "       [171.85864],\n",
       "       [175.37167],\n",
       "       [168.34712],\n",
       "       [183.12253],\n",
       "       [183.14278],\n",
       "       [181.18439],\n",
       "       [192.00345],\n",
       "       [193.70834],\n",
       "       [198.915  ],\n",
       "       [197.20404],\n",
       "       [189.24629],\n",
       "       [200.94748],\n",
       "       [206.16998],\n",
       "       [212.23764],\n",
       "       [208.247  ],\n",
       "       [211.45554],\n",
       "       [215.12512],\n",
       "       [210.14636],\n",
       "       [219.62111],\n",
       "       [220.16182],\n",
       "       [224.5936 ],\n",
       "       [230.34384],\n",
       "       [236.17252],\n",
       "       [241.2345 ],\n",
       "       [239.19061],\n",
       "       [234.93478],\n",
       "       [229.25273],\n",
       "       [236.71423],\n",
       "       [232.86378],\n",
       "       [237.23239],\n",
       "       [238.37735],\n",
       "       [250.10556],\n",
       "       [252.62311],\n",
       "       [257.2546 ],\n",
       "       [268.7174 ],\n",
       "       [268.40427],\n",
       "       [259.17407],\n",
       "       [258.73004],\n",
       "       [251.25172],\n",
       "       [256.3503 ],\n",
       "       [257.1748 ],\n",
       "       [254.75372],\n",
       "       [258.90625],\n",
       "       [253.97758],\n",
       "       [253.99826],\n",
       "       [250.88681],\n",
       "       [254.78888],\n",
       "       [257.89624],\n",
       "       [255.67995],\n",
       "       [255.13165],\n",
       "       [253.44528],\n",
       "       [248.36078],\n",
       "       [243.45335],\n",
       "       [239.47511],\n",
       "       [235.20569],\n",
       "       [229.46094],\n",
       "       [216.9756 ],\n",
       "       [218.05862],\n",
       "       [210.43864],\n",
       "       [218.19833],\n",
       "       [212.5089 ],\n",
       "       [213.21027],\n",
       "       [214.89673],\n",
       "       [210.91313],\n",
       "       [217.8809 ],\n",
       "       [218.11967],\n",
       "       [222.64488],\n",
       "       [223.95059],\n",
       "       [219.41138],\n",
       "       [223.26796],\n",
       "       [226.86476],\n",
       "       [227.16295],\n",
       "       [225.7943 ],\n",
       "       [223.37328],\n",
       "       [221.01894],\n",
       "       [223.67339],\n",
       "       [222.04315],\n",
       "       [237.73401],\n",
       "       [242.08699],\n",
       "       [235.04132],\n",
       "       [228.13817],\n",
       "       [226.79425],\n",
       "       [223.13089],\n",
       "       [223.48457],\n",
       "       [219.06958],\n",
       "       [221.94879],\n",
       "       [225.53593],\n",
       "       [223.6651 ],\n",
       "       [205.44397],\n",
       "       [199.3162 ],\n",
       "       [196.79918],\n",
       "       [201.30229],\n",
       "       [206.5775 ],\n",
       "       [214.64662],\n",
       "       [214.94252],\n",
       "       [220.47287],\n",
       "       [214.82806],\n",
       "       [217.09538],\n",
       "       [219.73164],\n",
       "       [221.38676],\n",
       "       [229.09154],\n",
       "       [228.36653],\n",
       "       [226.52596],\n",
       "       [226.03462],\n",
       "       [223.69843],\n",
       "       [229.04501],\n",
       "       [230.34686],\n",
       "       [231.06044],\n",
       "       [228.64178],\n",
       "       [225.35439],\n",
       "       [233.56116],\n",
       "       [230.568  ],\n",
       "       [235.14603],\n",
       "       [231.13275],\n",
       "       [237.11969],\n",
       "       [237.40514],\n",
       "       [230.01082],\n",
       "       [231.04591],\n",
       "       [232.0139 ],\n",
       "       [233.31654],\n",
       "       [230.38531],\n",
       "       [233.04108],\n",
       "       [230.6202 ],\n",
       "       [228.59535],\n",
       "       [227.79808],\n",
       "       [231.10973],\n",
       "       [227.97148],\n",
       "       [225.96413],\n",
       "       [227.07005],\n",
       "       [226.34927],\n",
       "       [226.45927],\n",
       "       [230.17831],\n",
       "       [228.0045 ],\n",
       "       [224.72667],\n",
       "       [224.13316],\n",
       "       [221.465  ],\n",
       "       [217.19894],\n",
       "       [213.93097],\n",
       "       [212.68352],\n",
       "       [204.07372],\n",
       "       [205.45088],\n",
       "       [208.58397],\n",
       "       [200.73564],\n",
       "       [202.19565],\n",
       "       [203.21623],\n",
       "       [199.919  ],\n",
       "       [199.87238],\n",
       "       [204.96773],\n",
       "       [207.70555],\n",
       "       [211.60933],\n",
       "       [208.8187 ],\n",
       "       [208.65506],\n",
       "       [208.8818 ],\n",
       "       [212.2318 ],\n",
       "       [212.55554],\n",
       "       [211.43571],\n",
       "       [209.64928],\n",
       "       [208.91714],\n",
       "       [206.37172],\n",
       "       [218.98305],\n",
       "       [213.80351],\n",
       "       [215.08899],\n",
       "       [204.312  ],\n",
       "       [203.26399],\n",
       "       [206.19038],\n",
       "       [203.67499],\n",
       "       [206.11522],\n",
       "       [202.09917],\n",
       "       [203.54448],\n",
       "       [199.62424],\n",
       "       [201.6883 ],\n",
       "       [209.37088],\n",
       "       [203.74728],\n",
       "       [203.48894],\n",
       "       [205.91966],\n",
       "       [206.404  ],\n",
       "       [204.6936 ],\n",
       "       [217.05412],\n",
       "       [204.78517],\n",
       "       [204.6269 ],\n",
       "       [199.51968],\n",
       "       [194.16751],\n",
       "       [193.48961],\n",
       "       [195.69633],\n",
       "       [196.30269],\n",
       "       [199.8945 ],\n",
       "       [192.8117 ],\n",
       "       [193.87358],\n",
       "       [190.24445],\n",
       "       [190.35571],\n",
       "       [188.11896],\n",
       "       [186.63867],\n",
       "       [192.22733],\n",
       "       [195.19543],\n",
       "       [190.02052],\n",
       "       [194.06506],\n",
       "       [197.84357],\n",
       "       [199.16467],\n",
       "       [201.41948],\n",
       "       [197.9117 ],\n",
       "       [193.21443],\n",
       "       [190.17874],\n",
       "       [186.50233],\n",
       "       [191.601  ],\n",
       "       [187.98201],\n",
       "       [196.67941],\n",
       "       [193.69702],\n",
       "       [196.20107],\n",
       "       [196.11305],\n",
       "       [204.21808],\n",
       "       [204.50832],\n",
       "       [202.11647],\n",
       "       [204.66788],\n",
       "       [206.2348 ],\n",
       "       [211.33397],\n",
       "       [214.04982],\n",
       "       [211.0303 ],\n",
       "       [215.65775],\n",
       "       [224.76361],\n",
       "       [224.87428],\n",
       "       [219.75644],\n",
       "       [218.79407],\n",
       "       [222.06349],\n",
       "       [230.31128],\n",
       "       [228.23009],\n",
       "       [232.00406],\n",
       "       [232.89247],\n",
       "       [232.9918 ],\n",
       "       [230.69456],\n",
       "       [231.95993],\n",
       "       [239.73534],\n",
       "       [240.82217],\n",
       "       [240.43318],\n",
       "       [250.44727],\n",
       "       [245.58644],\n",
       "       [252.1804 ],\n",
       "       [255.1427 ],\n",
       "       [258.95923],\n",
       "       [255.19258],\n",
       "       [252.92087],\n",
       "       [255.7059 ],\n",
       "       [256.097  ],\n",
       "       [253.19058],\n",
       "       [252.71373],\n",
       "       [252.49507],\n",
       "       [258.70795],\n",
       "       [260.18045],\n",
       "       [263.62692],\n",
       "       [271.50906],\n",
       "       [269.97852],\n",
       "       [280.8713 ],\n",
       "       [286.29666],\n",
       "       [279.90033],\n",
       "       [278.37195],\n",
       "       [271.29095],\n",
       "       [281.0811 ],\n",
       "       [282.51834],\n",
       "       [262.53085],\n",
       "       [258.04016],\n",
       "       [248.2313 ],\n",
       "       [251.95544],\n",
       "       [255.75705],\n",
       "       [253.69264],\n",
       "       [252.21935],\n",
       "       [252.03174],\n",
       "       [254.4475 ],\n",
       "       [249.94116],\n",
       "       [249.11618],\n",
       "       [246.7953 ],\n",
       "       [247.5894 ],\n",
       "       [259.771  ],\n",
       "       [261.13818],\n",
       "       [266.1109 ]], dtype=float32)"
      ]
     },
     "execution_count": 84,
     "metadata": {},
     "output_type": "execute_result"
    }
   ],
   "source": [
    "scaled_pred = nn.predict(x1_arr)\n",
    "pred = ss.inverse_transform(scaled_pred)\n",
    "pred"
   ]
  },
  {
   "cell_type": "code",
   "execution_count": null,
   "metadata": {
    "colab": {
     "base_uri": "https://localhost:8080/"
    },
    "id": "V3G0vFz-ZIi6",
    "outputId": "0d814f04-a78a-4fc8-b14f-cef61240cba6"
   },
   "outputs": [
    {
     "data": {
      "text/plain": [
       "221.56888112880767"
      ]
     },
     "execution_count": 85,
     "metadata": {},
     "output_type": "execute_result"
    }
   ],
   "source": [
    "from sklearn.metrics import mean_absolute_error\n",
    "mean_absolute_error(y1, pred)"
   ]
  },
  {
   "cell_type": "code",
   "execution_count": null,
   "metadata": {
    "id": "UZqtNpRLZInS"
   },
   "outputs": [],
   "source": []
  },
  {
   "cell_type": "code",
   "execution_count": null,
   "metadata": {
    "colab": {
     "base_uri": "https://localhost:8080/"
    },
    "id": "M_8GYPXxZIpi",
    "outputId": "36f2267e-3e68-42f3-82ac-9fa78f0630db"
   },
   "outputs": [
    {
     "data": {
      "text/plain": [
       "(328, 1)"
      ]
     },
     "execution_count": 87,
     "metadata": {},
     "output_type": "execute_result"
    }
   ],
   "source": [
    "pred.shape"
   ]
  },
  {
   "cell_type": "code",
   "execution_count": null,
   "metadata": {
    "colab": {
     "base_uri": "https://localhost:8080/"
    },
    "id": "TNRM95WsZIr0",
    "outputId": "313ad75f-2df5-4fe4-ebd3-dc18f5d3c37b"
   },
   "outputs": [
    {
     "data": {
      "text/plain": [
       "(338, 1)"
      ]
     },
     "execution_count": 88,
     "metadata": {},
     "output_type": "execute_result"
    }
   ],
   "source": [
    "test.shape"
   ]
  },
  {
   "cell_type": "code",
   "execution_count": null,
   "metadata": {
    "id": "gyfLVxq2ZIwY"
   },
   "outputs": [],
   "source": []
  },
  {
   "cell_type": "code",
   "execution_count": null,
   "metadata": {
    "colab": {
     "base_uri": "https://localhost:8080/"
    },
    "id": "Aj4nBXC6ZIyX",
    "outputId": "71742285-ff5c-4b88-a587-81134ffa3fd2"
   },
   "outputs": [
    {
     "data": {
      "text/plain": [
       "(338, 1)"
      ]
     },
     "execution_count": 97,
     "metadata": {},
     "output_type": "execute_result"
    }
   ],
   "source": [
    "p = a1[len:,:]\n",
    "p.shape"
   ]
  },
  {
   "cell_type": "markdown",
   "metadata": {},
   "source": [
    "# Plot test data Vs Predicted data"
   ]
  },
  {
   "cell_type": "code",
   "execution_count": null,
   "metadata": {
    "colab": {
     "base_uri": "https://localhost:8080/",
     "height": 497
    },
    "id": "TovaEdNFZI1m",
    "outputId": "0f176127-0f9d-4f00-d78f-f25dbcf67fb1"
   },
   "outputs": [
    {
     "data": {
      "image/png": "[encoded data removed]",
      "text/plain": [
       "<Figure size 1440x576 with 1 Axes>"
      ]
     },
     "metadata": {
      "needs_background": "light"
     },
     "output_type": "display_data"
    }
   ],
   "source": [
    "\n",
    "plt.figure(figsize=(20,8))\n",
    "plt.plot(p)\n",
    "plt.plot(pred)\n",
    "plt.xlabel('Date')\n",
    "plt.ylabel('Stock Price [\"Open\"]')\n",
    "plt.legend(['test data', 'predictions'], loc='lower right')\n",
    "plt.show()"
   ]
  },
  {
   "cell_type": "code",
   "execution_count": null,
   "metadata": {
    "id": "_ZOpumuoh3qY"
   },
   "outputs": [],
   "source": []
  }
 ],
 "metadata": {
  "colab": {
   "collapsed_sections": [],
   "name": "Tesla_Stock_Price.ipynb",
   "provenance": []
  },
  "kernelspec": {
   "display_name": "Python 3",
   "language": "python",
   "name": "python3"
  },
  "language_info": {
   "codemirror_mode": {
    "name": "ipython",
    "version": 3
   },
   "file_extension": ".py",
   "mimetype": "text/x-python",
   "name": "python",
   "nbconvert_exporter": "python",
   "pygments_lexer": "ipython3",
   "version": "3.8.8"
  }
 },
 "nbformat": 4,
 "nbformat_minor": 1
}
